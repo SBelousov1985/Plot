{
 "cells": [
  {
   "cell_type": "markdown",
   "metadata": {},
   "source": [
    "## Импорт библиотек"
   ]
  },
  {
   "cell_type": "code",
   "execution_count": 1,
   "metadata": {},
   "outputs": [],
   "source": [
    "import matplotlib.pyplot as plt\n",
    "import numpy as np\n",
    "import os\n",
    "import pandas as pd\n",
    "%matplotlib inline"
   ]
  },
  {
   "cell_type": "markdown",
   "metadata": {},
   "source": [
    "## Путь к данным"
   ]
  },
  {
   "cell_type": "code",
   "execution_count": 2,
   "metadata": {},
   "outputs": [
    {
     "name": "stdout",
     "output_type": "stream",
     "text": [
      "C:\\Users\\Белоусовы\\Python\\4.1\\names\n"
     ]
    }
   ],
   "source": [
    "DATA_PATH = os.path.join(os.getcwd(), 'Python', '4.1', 'names')\n",
    "print(DATA_PATH)"
   ]
  },
  {
   "cell_type": "markdown",
   "metadata": {},
   "source": [
    "## Список файлов"
   ]
  },
  {
   "cell_type": "code",
   "execution_count": 3,
   "metadata": {},
   "outputs": [
    {
     "name": "stdout",
     "output_type": "stream",
     "text": [
      "C:\\Users\\Белоусовы\\Python\\4.1\\names\\yob1880.txt\n",
      "C:\\Users\\Белоусовы\\Python\\4.1\\names\\yob1881.txt\n",
      "C:\\Users\\Белоусовы\\Python\\4.1\\names\\yob1882.txt\n",
      "C:\\Users\\Белоусовы\\Python\\4.1\\names\\yob2017.txt\n"
     ]
    }
   ],
   "source": [
    "def get_files_by_ext(files, ext):\n",
    "    result = {}\n",
    "    for file_name in files:\n",
    "        if file_name.endswith(\".\" + ext):\n",
    "            year = int(os.path.splitext(os.path.basename(file_name))[0][-4:])\n",
    "            result[year] = os.path.join(DATA_PATH, file_name)\n",
    "    return result\n",
    "file_list = get_files_by_ext(os.listdir(DATA_PATH), \"txt\")\n",
    "print(file_list[1880])\n",
    "print(file_list[1881])\n",
    "print(file_list[1882])\n",
    "print(file_list[2017])"
   ]
  },
  {
   "cell_type": "markdown",
   "metadata": {},
   "source": [
    "## Функции соединения фреймов"
   ]
  },
  {
   "cell_type": "code",
   "execution_count": 28,
   "metadata": {},
   "outputs": [],
   "source": [
    "def get_df_merge(years):\n",
    "    df = None\n",
    "    for year in years:\n",
    "        if df is None:\n",
    "            df = pd.read_csv(file_list[year],\n",
    "                             names=['Name', 'Gender', year],\n",
    "                             engine=\"python\")\n",
    "        else:\n",
    "            df2 = pd.read_csv(file_list[year],\n",
    "                              names=['Name', 'Gender', year],\n",
    "                              engine=\"python\")\n",
    "            df = pd.merge(df, df2, on=['Name', 'Gender'], how='outer')\n",
    "    for year in years:\n",
    "        df[year] = df[year].fillna(0).astype(np.int64)\n",
    "    return df\n",
    "\n",
    "\n",
    "def get_df_concat(years):\n",
    "    dfs = []\n",
    "    for year in years:\n",
    "        dfs.append(pd.read_csv(file_list[year],\n",
    "                               names=['Name', 'Gender', 'Count'],\n",
    "                               engine=\"python\"))\n",
    "    return pd.concat(dfs, ignore_index=True).groupby('Name').sum()"
   ]
  },
  {
   "cell_type": "markdown",
   "metadata": {},
   "source": [
    "## Динамика изменения имен"
   ]
  },
  {
   "cell_type": "code",
   "execution_count": 5,
   "metadata": {},
   "outputs": [
    {
     "data": {
      "text/html": [
       "<div>\n",
       "<style scoped>\n",
       "    .dataframe tbody tr th:only-of-type {\n",
       "        vertical-align: middle;\n",
       "    }\n",
       "\n",
       "    .dataframe tbody tr th {\n",
       "        vertical-align: top;\n",
       "    }\n",
       "\n",
       "    .dataframe thead th {\n",
       "        text-align: right;\n",
       "    }\n",
       "</style>\n",
       "<table border=\"1\" class=\"dataframe\">\n",
       "  <thead>\n",
       "    <tr style=\"text-align: right;\">\n",
       "      <th></th>\n",
       "      <th>1900</th>\n",
       "      <th>1901</th>\n",
       "      <th>1902</th>\n",
       "      <th>1903</th>\n",
       "      <th>1904</th>\n",
       "      <th>1905</th>\n",
       "      <th>1906</th>\n",
       "      <th>1907</th>\n",
       "      <th>1908</th>\n",
       "      <th>1909</th>\n",
       "      <th>...</th>\n",
       "      <th>1991</th>\n",
       "      <th>1992</th>\n",
       "      <th>1993</th>\n",
       "      <th>1994</th>\n",
       "      <th>1995</th>\n",
       "      <th>1996</th>\n",
       "      <th>1997</th>\n",
       "      <th>1998</th>\n",
       "      <th>1999</th>\n",
       "      <th>2000</th>\n",
       "    </tr>\n",
       "    <tr>\n",
       "      <th>Name</th>\n",
       "      <th></th>\n",
       "      <th></th>\n",
       "      <th></th>\n",
       "      <th></th>\n",
       "      <th></th>\n",
       "      <th></th>\n",
       "      <th></th>\n",
       "      <th></th>\n",
       "      <th></th>\n",
       "      <th></th>\n",
       "      <th></th>\n",
       "      <th></th>\n",
       "      <th></th>\n",
       "      <th></th>\n",
       "      <th></th>\n",
       "      <th></th>\n",
       "      <th></th>\n",
       "      <th></th>\n",
       "      <th></th>\n",
       "      <th></th>\n",
       "      <th></th>\n",
       "    </tr>\n",
       "  </thead>\n",
       "  <tbody>\n",
       "    <tr>\n",
       "      <th>Robert</th>\n",
       "      <td>3845</td>\n",
       "      <td>2559</td>\n",
       "      <td>3201</td>\n",
       "      <td>3057</td>\n",
       "      <td>3427</td>\n",
       "      <td>3431</td>\n",
       "      <td>3651</td>\n",
       "      <td>4042</td>\n",
       "      <td>4245</td>\n",
       "      <td>4588</td>\n",
       "      <td>...</td>\n",
       "      <td>26905</td>\n",
       "      <td>24147</td>\n",
       "      <td>22513</td>\n",
       "      <td>20607</td>\n",
       "      <td>18627</td>\n",
       "      <td>17711</td>\n",
       "      <td>16340</td>\n",
       "      <td>15552</td>\n",
       "      <td>14563</td>\n",
       "      <td>13760</td>\n",
       "    </tr>\n",
       "    <tr>\n",
       "      <th>Ruth</th>\n",
       "      <td>4781</td>\n",
       "      <td>3989</td>\n",
       "      <td>4401</td>\n",
       "      <td>4531</td>\n",
       "      <td>4915</td>\n",
       "      <td>5088</td>\n",
       "      <td>5159</td>\n",
       "      <td>5588</td>\n",
       "      <td>6200</td>\n",
       "      <td>6526</td>\n",
       "      <td>...</td>\n",
       "      <td>990</td>\n",
       "      <td>853</td>\n",
       "      <td>863</td>\n",
       "      <td>880</td>\n",
       "      <td>858</td>\n",
       "      <td>801</td>\n",
       "      <td>856</td>\n",
       "      <td>850</td>\n",
       "      <td>870</td>\n",
       "      <td>903</td>\n",
       "    </tr>\n",
       "  </tbody>\n",
       "</table>\n",
       "<p>2 rows × 101 columns</p>\n",
       "</div>"
      ],
      "text/plain": [
       "        1900  1901  1902  1903  1904  1905  1906  1907  1908  1909  ...    \\\n",
       "Name                                                                ...     \n",
       "Robert  3845  2559  3201  3057  3427  3431  3651  4042  4245  4588  ...     \n",
       "Ruth    4781  3989  4401  4531  4915  5088  5159  5588  6200  6526  ...     \n",
       "\n",
       "         1991   1992   1993   1994   1995   1996   1997   1998   1999   2000  \n",
       "Name                                                                          \n",
       "Robert  26905  24147  22513  20607  18627  17711  16340  15552  14563  13760  \n",
       "Ruth      990    853    863    880    858    801    856    850    870    903  \n",
       "\n",
       "[2 rows x 101 columns]"
      ]
     },
     "execution_count": 5,
     "metadata": {},
     "output_type": "execute_result"
    }
   ],
   "source": [
    "dynamics = get_df_merge([i for i in range(1900, 2001)])\n",
    "dynamics = dynamics[dynamics['Name'].isin(['Ruth', 'Robert'])].groupby('Name').sum()\n",
    "dynamics"
   ]
  },
  {
   "cell_type": "markdown",
   "metadata": {},
   "source": [
    "## График изменения имен"
   ]
  },
  {
   "cell_type": "code",
   "execution_count": 6,
   "metadata": {},
   "outputs": [
    {
     "data": {
      "image/png": "[encoded data removed]",
      "text/plain": [
       "<Figure size 432x288 with 1 Axes>"
      ]
     },
     "metadata": {},
     "output_type": "display_data"
    }
   ],
   "source": [
    "A = dynamics.T\n",
    "plot = A.plot()"
   ]
  },
  {
   "cell_type": "markdown",
   "metadata": {},
   "source": [
    "## Соединение фреймов за период 1900-2000 с шагом в 5 лет"
   ]
  },
  {
   "cell_type": "code",
   "execution_count": 7,
   "metadata": {},
   "outputs": [],
   "source": [
    "count = get_df_merge([i for i in range(1900, 2001, 5)]).groupby('Name').sum()"
   ]
  },
  {
   "cell_type": "markdown",
   "metadata": {},
   "source": [
    "## Гистограмма по количеству имен"
   ]
  },
  {
   "cell_type": "code",
   "execution_count": 8,
   "metadata": {},
   "outputs": [
    {
     "data": {
      "image/png": "[encoded data removed]",
      "text/plain": [
       "<Figure size 432x288 with 1 Axes>"
      ]
     },
     "metadata": {},
     "output_type": "display_data"
    }
   ],
   "source": [
    "A = pd.DataFrame(count.astype(bool).sum(axis=0), columns=['Count'])\n",
    "plot = A.plot.bar()"
   ]
  },
  {
   "cell_type": "markdown",
   "metadata": {},
   "source": [
    "## ТОП 10 имен на R за 1950"
   ]
  },
  {
   "cell_type": "code",
   "execution_count": 9,
   "metadata": {},
   "outputs": [
    {
     "data": {
      "text/plain": [
       "<matplotlib.axes._subplots.AxesSubplot at 0x1c70fca33c8>"
      ]
     },
     "execution_count": 9,
     "metadata": {},
     "output_type": "execute_result"
    },
    {
     "data": {
      "image/png": "[encoded data removed]",
      "text/plain": [
       "<Figure size 576x576 with 1 Axes>"
      ]
     },
     "metadata": {},
     "output_type": "display_data"
    }
   ],
   "source": [
    "def get_top_n_name_by_template(n, year, template):\n",
    "    names = get_df_merge([year]).set_index('Name').filter(regex=template, axis=0).groupby('Name').sum()\n",
    "    names = names.sort_values(year, ascending=False).head(n)\n",
    "    return names\n",
    "names = get_top_n_name_by_template(10, 1950, '^R')\n",
    "names.plot.pie(y=1950, figsize=(8, 8))"
   ]
  },
  {
   "cell_type": "markdown",
   "metadata": {},
   "source": [
    "## Имена с согласными буквами"
   ]
  },
  {
   "cell_type": "code",
   "execution_count": 10,
   "metadata": {},
   "outputs": [
    {
     "data": {
      "text/html": [
       "<div>\n",
       "<style scoped>\n",
       "    .dataframe tbody tr th:only-of-type {\n",
       "        vertical-align: middle;\n",
       "    }\n",
       "\n",
       "    .dataframe tbody tr th {\n",
       "        vertical-align: top;\n",
       "    }\n",
       "\n",
       "    .dataframe thead th {\n",
       "        text-align: right;\n",
       "    }\n",
       "</style>\n",
       "<table border=\"1\" class=\"dataframe\">\n",
       "  <thead>\n",
       "    <tr style=\"text-align: right;\">\n",
       "      <th></th>\n",
       "      <th>Count</th>\n",
       "      <th>Count_Consonant</th>\n",
       "    </tr>\n",
       "    <tr>\n",
       "      <th>Name</th>\n",
       "      <th></th>\n",
       "      <th></th>\n",
       "    </tr>\n",
       "  </thead>\n",
       "  <tbody>\n",
       "    <tr>\n",
       "      <th>Aadam</th>\n",
       "      <td>58</td>\n",
       "      <td>2</td>\n",
       "    </tr>\n",
       "    <tr>\n",
       "      <th>Aadarsh</th>\n",
       "      <td>5</td>\n",
       "      <td>4</td>\n",
       "    </tr>\n",
       "    <tr>\n",
       "      <th>Aadil</th>\n",
       "      <td>80</td>\n",
       "      <td>2</td>\n",
       "    </tr>\n",
       "  </tbody>\n",
       "</table>\n",
       "</div>"
      ],
      "text/plain": [
       "         Count  Count_Consonant\n",
       "Name                           \n",
       "Aadam       58                2\n",
       "Aadarsh      5                4\n",
       "Aadil       80                2"
      ]
     },
     "execution_count": 10,
     "metadata": {},
     "output_type": "execute_result"
    }
   ],
   "source": [
    "names = get_df_concat([i for i in range(1900, 2001)])\n",
    "def struct_of_word(some_word):\n",
    "    word = some_word.lower()\n",
    "    vowels = 0\n",
    "    consonants = 0\n",
    "    for letter in word:\n",
    "        if letter == \"a\" or letter == \"e\" or\\\n",
    "           letter == \"i\" or letter == \"o\" or\\\n",
    "           letter == \"u\":\n",
    "            vowels += 1\n",
    "        else:\n",
    "            consonants += 1\n",
    "    return {'vowels': vowels, 'consonants': consonants}\n",
    "def get_consonants(row):\n",
    "    return struct_of_word(row.name)['consonants']\n",
    "names['Count_Consonant'] = names.apply(get_consonants, axis=1)\n",
    "names.head(3)"
   ]
  },
  {
   "cell_type": "markdown",
   "metadata": {},
   "source": [
    "## Частоты употребления согласных букв"
   ]
  },
  {
   "cell_type": "code",
   "execution_count": 27,
   "metadata": {},
   "outputs": [
    {
     "data": {
      "text/plain": [
       "<matplotlib.axes._subplots.AxesSubplot at 0x1c70ff2f5c0>"
      ]
     },
     "execution_count": 27,
     "metadata": {},
     "output_type": "execute_result"
    },
    {
     "data": {
      "image/png": "[encoded data removed]",
      "text/plain": [
       "<Figure size 432x288 with 1 Axes>"
      ]
     },
     "metadata": {},
     "output_type": "display_data"
    }
   ],
   "source": [
    "names_freq = names.groupby('Count_Consonant', as_index=False).sum()\n",
    "names_freq.plot.scatter(x='Count_Consonant', y='Count')"
   ]
  }
 ],
 "metadata": {
  "kernelspec": {
   "display_name": "Python 3",
   "language": "python",
   "name": "python3"
  },
  "language_info": {
   "codemirror_mode": {
    "name": "ipython",
    "version": 3
   },
   "file_extension": ".py",
   "mimetype": "text/x-python",
   "name": "python",
   "nbconvert_exporter": "python",
   "pygments_lexer": "ipython3",
   "version": "3.6.5"
  }
 },
 "nbformat": 4,
 "nbformat_minor": 2
}
